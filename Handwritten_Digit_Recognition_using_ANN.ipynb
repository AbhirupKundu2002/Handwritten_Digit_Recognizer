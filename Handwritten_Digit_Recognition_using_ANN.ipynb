{
  "nbformat": 4,
  "nbformat_minor": 0,
  "metadata": {
    "colab": {
      "provenance": []
    },
    "kernelspec": {
      "name": "python3",
      "display_name": "Python 3"
    },
    "language_info": {
      "name": "python"
    }
  },
  "cells": [
    {
      "cell_type": "code",
      "execution_count": 77,
      "metadata": {
        "id": "PJJmC0ZO_Pu3"
      },
      "outputs": [],
      "source": [
        "import keras\n",
        "import numpy as np\n",
        "import matplotlib.pyplot as plt\n",
        "import keras.layers as ly"
      ]
    },
    {
      "cell_type": "code",
      "source": [
        "# Loading dataset\n",
        "mnist = keras.datasets.mnist"
      ],
      "metadata": {
        "id": "1EE1JY2kerdL"
      },
      "execution_count": 78,
      "outputs": []
    },
    {
      "cell_type": "code",
      "source": [
        "#Data Preprocessing\n",
        "(x_train,y_train),(x_test,y_test) = mnist.load_data()\n",
        "x=x_test\n",
        "x_train=x_train.reshape((60000,28*28))\n",
        "x_test=x_test.reshape((10000,28*28))\n",
        "\n",
        "x_train = x_train.astype('float32') / 255\n",
        "x_test = x_test.astype('float32') / 255\n",
        "\n",
        "y_train=keras.utils.to_categorical(y_train)\n",
        "y_test=keras.utils.to_categorical(y_test)"
      ],
      "metadata": {
        "id": "MzakCb59_R6r"
      },
      "execution_count": 79,
      "outputs": []
    },
    {
      "cell_type": "code",
      "source": [
        "# Adding the layers and building the architecture\n",
        "model = keras.models.Sequential();\n",
        "\n",
        "model.add(ly.Dense(512,activation='relu', input_shape=(28*28,)))\n",
        "model.add(ly.Dense(10,activation='softmax'))\n",
        "model.summary()"
      ],
      "metadata": {
        "id": "Q7n1gQUk_oEm",
        "colab": {
          "base_uri": "https://localhost:8080/"
        },
        "outputId": "1eb804c5-1880-4aa2-b466-b154ad11fdf5"
      },
      "execution_count": 80,
      "outputs": [
        {
          "output_type": "stream",
          "name": "stdout",
          "text": [
            "Model: \"sequential_10\"\n",
            "_________________________________________________________________\n",
            " Layer (type)                Output Shape              Param #   \n",
            "=================================================================\n",
            " dense_23 (Dense)            (None, 512)               401920    \n",
            "                                                                 \n",
            " dense_24 (Dense)            (None, 10)                5130      \n",
            "                                                                 \n",
            "=================================================================\n",
            "Total params: 407050 (1.55 MB)\n",
            "Trainable params: 407050 (1.55 MB)\n",
            "Non-trainable params: 0 (0.00 Byte)\n",
            "_________________________________________________________________\n"
          ]
        }
      ]
    },
    {
      "cell_type": "code",
      "source": [
        "# setting optimizers, lossses , etc...\n",
        "model.compile(optimizer='rmsprop',\n",
        "             loss='categorical_crossentropy',\n",
        "             metrics=['accuracy'])"
      ],
      "metadata": {
        "id": "oJ_MajFF_jfR"
      },
      "execution_count": 81,
      "outputs": []
    },
    {
      "cell_type": "code",
      "source": [
        "model.fit(x_train, y_train, epochs = 5, batch_size = 120)"
      ],
      "metadata": {
        "colab": {
          "base_uri": "https://localhost:8080/"
        },
        "id": "mw0cyvKB_tEf",
        "outputId": "1e5019bb-b4d6-4035-f999-0a965c9fe964"
      },
      "execution_count": 82,
      "outputs": [
        {
          "output_type": "stream",
          "name": "stdout",
          "text": [
            "Epoch 1/5\n",
            "500/500 [==============================] - 4s 6ms/step - loss: 0.2597 - accuracy: 0.9250\n",
            "Epoch 2/5\n",
            "500/500 [==============================] - 3s 5ms/step - loss: 0.1074 - accuracy: 0.9682\n",
            "Epoch 3/5\n",
            "500/500 [==============================] - 3s 6ms/step - loss: 0.0699 - accuracy: 0.9786\n",
            "Epoch 4/5\n",
            "500/500 [==============================] - 3s 6ms/step - loss: 0.0509 - accuracy: 0.9848\n",
            "Epoch 5/5\n",
            "500/500 [==============================] - 3s 6ms/step - loss: 0.0387 - accuracy: 0.9882\n"
          ]
        },
        {
          "output_type": "execute_result",
          "data": {
            "text/plain": [
              "<keras.src.callbacks.History at 0x782be671b430>"
            ]
          },
          "metadata": {},
          "execution_count": 82
        }
      ]
    },
    {
      "cell_type": "code",
      "source": [
        "# Testing the Model ...\n",
        "loss, acc = model.evaluate(x_test, y_test)\n",
        "print('Test loss:', loss)\n",
        "print('Test accuracy:', acc*100)"
      ],
      "metadata": {
        "colab": {
          "base_uri": "https://localhost:8080/"
        },
        "id": "x95jmoGS_5V-",
        "outputId": "d53ea755-4dfc-424e-92bf-319ee04874a4"
      },
      "execution_count": 83,
      "outputs": [
        {
          "output_type": "stream",
          "name": "stdout",
          "text": [
            "313/313 [==============================] - 1s 2ms/step - loss: 0.0651 - accuracy: 0.9802\n",
            "Test loss: 0.06510582566261292\n",
            "Test accuracy: 98.01999926567078\n"
          ]
        }
      ]
    },
    {
      "cell_type": "code",
      "source": [
        "# prediction\n",
        "predictions = model.predict(x_test)"
      ],
      "metadata": {
        "colab": {
          "base_uri": "https://localhost:8080/"
        },
        "id": "oQGSakye_82J",
        "outputId": "ca784290-4967-429a-8fde-a3ba0dd3cf10"
      },
      "execution_count": 84,
      "outputs": [
        {
          "output_type": "stream",
          "name": "stdout",
          "text": [
            "313/313 [==============================] - 0s 1ms/step\n"
          ]
        }
      ]
    },
    {
      "cell_type": "code",
      "source": [
        "idx = 50\n",
        "plt.imshow(x[idx],cmap='gray_r')\n",
        "plt.show()\n",
        "print()\n",
        "print(\"Predicted Output=\",np.argmax(predictions[idx]))"
      ],
      "metadata": {
        "colab": {
          "base_uri": "https://localhost:8080/",
          "height": 465
        },
        "id": "_ROry-6s__ue",
        "outputId": "2b171690-1760-4579-efc3-8c427f421438"
      },
      "execution_count": 85,
      "outputs": [
        {
          "output_type": "display_data",
          "data": {
            "text/plain": [
              "<Figure size 640x480 with 1 Axes>"
            ],
            "image/png": "[encoded data removed]"
          },
          "metadata": {}
        },
        {
          "output_type": "stream",
          "name": "stdout",
          "text": [
            "\n",
            "Predicted Output= 6\n"
          ]
        }
      ]
    },
    {
      "cell_type": "code",
      "source": [
        "model.save('mnist_model_ANN')"
      ],
      "metadata": {
        "id": "WkXc7-cgDM8V"
      },
      "execution_count": 86,
      "outputs": []
    }
  ]
}
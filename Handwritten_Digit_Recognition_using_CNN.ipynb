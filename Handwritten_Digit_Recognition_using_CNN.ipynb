{
  "nbformat": 4,
  "nbformat_minor": 0,
  "metadata": {
    "colab": {
      "provenance": []
    },
    "kernelspec": {
      "name": "python3",
      "display_name": "Python 3"
    },
    "accelerator": "GPU"
  },
  "cells": [
    {
      "metadata": {
        "id": "xJJZZ_7Olwxb"
      },
      "cell_type": "code",
      "source": [
        "import keras\n",
        "import numpy as np\n",
        "import matplotlib.pyplot as plt\n",
        "import keras.layers as ly"
      ],
      "execution_count": 86,
      "outputs": []
    },
    {
      "cell_type": "code",
      "source": [
        "# loading dataset\n",
        "mnist = keras.datasets.mnist"
      ],
      "metadata": {
        "id": "9tYNr1J_YKVJ"
      },
      "execution_count": 87,
      "outputs": []
    },
    {
      "metadata": {
        "id": "TkqU91r2n2LG"
      },
      "cell_type": "code",
      "source": [
        "#Data Preprocessing\n",
        "(x_train,y_train),(x_test,y_test) = mnist.load_data()\n",
        "\n",
        "x_train=x_train.reshape((60000,28,28,1))\n",
        "x_test=x_test.reshape((10000,28,28,1))\n",
        "\n",
        "x_train = x_train.astype('float32') / 255\n",
        "x_test = x_test.astype('float32') / 255\n",
        "\n",
        "y_train=keras.utils.to_categorical(y_train)\n",
        "y_test=keras.utils.to_categorical(y_test)"
      ],
      "execution_count": 88,
      "outputs": []
    },
    {
      "metadata": {
        "id": "U_8Jj3zBpItq",
        "colab": {
          "base_uri": "https://localhost:8080/"
        },
        "outputId": "94ec3cd0-c8cb-45ba-eacc-1e1e96cf96a0"
      },
      "cell_type": "code",
      "source": [
        "# Adding the layers and building the architecture\n",
        "model = keras.models.Sequential();\n",
        "\n",
        "model.add(ly.Conv2D(32, (3,3), activation='relu', input_shape=(28,28,1)))\n",
        "model.add(ly.MaxPooling2D(2,2))\n",
        "model.add(ly.Conv2D(64, (3,3), activation = 'relu'))\n",
        "model.add(ly.MaxPooling2D(2,2))\n",
        "model.add(ly.Conv2D(64, (3,3), activation='relu'))\n",
        "model.add(ly.Flatten())\n",
        "model.add(ly.Dense(64, activation = 'relu'))\n",
        "model.add(ly.Dense(10,activation='softmax'))\n",
        "model.summary()"
      ],
      "execution_count": 89,
      "outputs": [
        {
          "output_type": "stream",
          "name": "stdout",
          "text": [
            "Model: \"sequential_9\"\n",
            "_________________________________________________________________\n",
            " Layer (type)                Output Shape              Param #   \n",
            "=================================================================\n",
            " conv2d_25 (Conv2D)          (None, 26, 26, 32)        320       \n",
            "                                                                 \n",
            " max_pooling2d_16 (MaxPooli  (None, 13, 13, 32)        0         \n",
            " ng2D)                                                           \n",
            "                                                                 \n",
            " conv2d_26 (Conv2D)          (None, 11, 11, 64)        18496     \n",
            "                                                                 \n",
            " max_pooling2d_17 (MaxPooli  (None, 5, 5, 64)          0         \n",
            " ng2D)                                                           \n",
            "                                                                 \n",
            " conv2d_27 (Conv2D)          (None, 3, 3, 64)          36928     \n",
            "                                                                 \n",
            " flatten_9 (Flatten)         (None, 576)               0         \n",
            "                                                                 \n",
            " dense_20 (Dense)            (None, 64)                36928     \n",
            "                                                                 \n",
            " dense_21 (Dense)            (None, 10)                650       \n",
            "                                                                 \n",
            "=================================================================\n",
            "Total params: 93322 (364.54 KB)\n",
            "Trainable params: 93322 (364.54 KB)\n",
            "Non-trainable params: 0 (0.00 Byte)\n",
            "_________________________________________________________________\n"
          ]
        }
      ]
    },
    {
      "metadata": {
        "id": "4pv7LotAq97t"
      },
      "cell_type": "code",
      "source": [
        "# setting optimizers, lossses , etc...\n",
        "model.compile(optimizer='rmsprop',\n",
        "             loss='categorical_crossentropy',\n",
        "             metrics=['accuracy'])"
      ],
      "execution_count": 90,
      "outputs": []
    },
    {
      "metadata": {
        "id": "gryXriJns6DP",
        "colab": {
          "base_uri": "https://localhost:8080/"
        },
        "outputId": "29b5fd33-3c3e-4dfb-aac9-4e5eb07aea37"
      },
      "cell_type": "code",
      "source": [
        "# training the model\n",
        "model.fit(x_train, y_train, epochs=5,batch_size=60)"
      ],
      "execution_count": 91,
      "outputs": [
        {
          "output_type": "stream",
          "name": "stdout",
          "text": [
            "Epoch 1/5\n",
            "1000/1000 [==============================] - 10s 6ms/step - loss: 0.1593 - accuracy: 0.9500\n",
            "Epoch 2/5\n",
            "1000/1000 [==============================] - 4s 4ms/step - loss: 0.0462 - accuracy: 0.9858\n",
            "Epoch 3/5\n",
            "1000/1000 [==============================] - 5s 5ms/step - loss: 0.0321 - accuracy: 0.9899\n",
            "Epoch 4/5\n",
            "1000/1000 [==============================] - 4s 4ms/step - loss: 0.0241 - accuracy: 0.9925\n",
            "Epoch 5/5\n",
            "1000/1000 [==============================] - 4s 4ms/step - loss: 0.0185 - accuracy: 0.9942\n"
          ]
        },
        {
          "output_type": "execute_result",
          "data": {
            "text/plain": [
              "<keras.src.callbacks.History at 0x7f77b5a0b9a0>"
            ]
          },
          "metadata": {},
          "execution_count": 91
        }
      ]
    },
    {
      "metadata": {
        "id": "G82HtIy5tQXu",
        "colab": {
          "base_uri": "https://localhost:8080/"
        },
        "outputId": "3ab19c8c-d94c-4895-d13c-7d063a401948"
      },
      "cell_type": "code",
      "source": [
        "# Testing the Model ...\n",
        "loss, acc = model.evaluate(x_test, y_test)\n",
        "print('Test loss:', loss)\n",
        "print('Test accuracy:', acc*100)"
      ],
      "execution_count": 92,
      "outputs": [
        {
          "output_type": "stream",
          "name": "stdout",
          "text": [
            "313/313 [==============================] - 1s 3ms/step - loss: 0.0293 - accuracy: 0.9923\n",
            "Test loss: 0.02927832305431366\n",
            "Test accuracy: 99.22999739646912\n"
          ]
        }
      ]
    },
    {
      "metadata": {
        "id": "OEGgTN82tuKi",
        "colab": {
          "base_uri": "https://localhost:8080/"
        },
        "outputId": "ccd827f9-1ed5-4239-9287-28f38cccb6ee"
      },
      "cell_type": "code",
      "source": [
        "# predicting ...\n",
        "\n",
        "predictions = model.predict(x_test)"
      ],
      "execution_count": 93,
      "outputs": [
        {
          "output_type": "stream",
          "name": "stdout",
          "text": [
            "313/313 [==============================] - 1s 2ms/step\n"
          ]
        }
      ]
    },
    {
      "metadata": {
        "id": "MunoBi9kvGKO",
        "colab": {
          "base_uri": "https://localhost:8080/",
          "height": 465
        },
        "outputId": "c048cc5b-dd85-4247-83b0-d61ede85fc5a"
      },
      "cell_type": "code",
      "source": [
        "idx = 5478\n",
        "plt.imshow(x_test[idx],cmap='gray_r')\n",
        "plt.show()\n",
        "print()\n",
        "print(\"Predicted Output=\",np.argmax(predictions[idx]))"
      ],
      "execution_count": 94,
      "outputs": [
        {
          "output_type": "display_data",
          "data": {
            "text/plain": [
              "<Figure size 640x480 with 1 Axes>"
            ],
            "image/png": "[encoded data removed]"
          },
          "metadata": {}
        },
        {
          "output_type": "stream",
          "name": "stdout",
          "text": [
            "\n",
            "Predicted Output= 8\n"
          ]
        }
      ]
    },
    {
      "metadata": {
        "id": "NRlCc1xfvlbZ"
      },
      "cell_type": "code",
      "source": [
        "model.save('mnist_model_cnn')"
      ],
      "execution_count": 95,
      "outputs": []
    }
  ]
}